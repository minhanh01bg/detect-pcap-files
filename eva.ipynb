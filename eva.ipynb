{
 "cells": [
  {
   "cell_type": "code",
   "execution_count": 1,
   "metadata": {},
   "outputs": [
    {
     "name": "stdout",
     "output_type": "stream",
     "text": [
      "(200,)\n",
      "200\n",
      "1581522\n",
      "1574172\n"
     ]
    }
   ],
   "source": [
    "import tensorflow as tf\n",
    "import os\n",
    "import numpy as np\n",
    "\n",
    "# Convert pcap file to bytes\n",
    "def pcap_to_bytes(pcap_file):\n",
    "    with open(pcap_file, 'rb') as f:\n",
    "        return f.read()\n",
    "\n",
    "# Get list of pcap files in directory\n",
    "pcap_dir_password_attack = './password_attack/'\n",
    "pcap_files_password_attack = [os.path.join(pcap_dir_password_attack, f) for f in os.listdir(pcap_dir_password_attack) if f.endswith('.pcap')]\n",
    "pcap_files_password_attack = pcap_files_password_attack[200:300]\n",
    "label_pa = np.full(len(pcap_files_password_attack), 0)\n",
    "\n",
    "pcap_dir_port_scan = './port_scan/'\n",
    "pcap_files_port_scan = [os.path.join(pcap_dir_port_scan, f) for f in os.listdir(pcap_dir_port_scan) if f.endswith('.pcap')]\n",
    "pcap_files_port_scan = pcap_files_port_scan[200:300]\n",
    "pcap_files = pcap_files_password_attack + pcap_files_port_scan\n",
    "label_ps = np.full(len(pcap_files_port_scan), 1)\n",
    "# Convert pcap files to bytes\n",
    "pcap_bytes = [pcap_to_bytes(f) for f in pcap_files]\n",
    "\n",
    "# Define labels\n",
    "labels = np.concatenate((label_pa, label_ps), axis=0)\n",
    "\n",
    "print(labels.shape)\n",
    "print(len(pcap_bytes))\n",
    "print(len(pcap_bytes[0]))\n",
    "print(len(pcap_bytes[1]))"
   ]
  },
  {
   "cell_type": "code",
   "execution_count": 2,
   "metadata": {},
   "outputs": [
    {
     "name": "stdout",
     "output_type": "stream",
     "text": [
      "4\n",
      "17\n",
      "[212. 195. 178. ...   0.   0.   0.]\n"
     ]
    }
   ],
   "source": [
    "# Convert pcap bytes to numpy array\n",
    "max_length = 1643410\n",
    "pcap_bytes_array = np.zeros((len(pcap_bytes), max_length))\n",
    "for i, b in enumerate(pcap_bytes):\n",
    "    padded_b = b.ljust(max_length, b'\\x00')\n",
    "    if len(padded_b) > max_length:\n",
    "        print(i)\n",
    "        padded_b = padded_b[:max_length]\n",
    "    pcap_bytes_array[i, :] = np.frombuffer(padded_b, dtype=np.uint8)\n",
    "print(pcap_bytes_array[0])\n",
    "\n",
    "mean = 68.6014175415039\n",
    "std = 79.07476806640625\n",
    "pcap_bytes_array = (pcap_bytes_array - mean) / std"
   ]
  },
  {
   "cell_type": "code",
   "execution_count": 3,
   "metadata": {},
   "outputs": [],
   "source": [
    "def reshape_(X):\n",
    "    return X.reshape(X.shape[0], X.shape[1], 1)"
   ]
  },
  {
   "cell_type": "code",
   "execution_count": 4,
   "metadata": {},
   "outputs": [
    {
     "name": "stdout",
     "output_type": "stream",
     "text": [
      "7/7 [==============================] - 2s 58ms/step\n"
     ]
    }
   ],
   "source": [
    "from tensorflow.keras.models import load_model\n",
    "model = load_model('./model.h5')\n",
    "\n",
    "# pcap_bytes_array = reshape_(pcap_bytes_array)\n",
    "yhat = model.predict(pcap_bytes_array,batch_size=32)"
   ]
  },
  {
   "cell_type": "code",
   "execution_count": 5,
   "metadata": {},
   "outputs": [
    {
     "name": "stdout",
     "output_type": "stream",
     "text": [
      "[0 0 0 0 0 0 0 0 0 0 0 0 0 0 0 0 0 0 0 0 0 0 0 0 0 0 0 0 0 0 0 0 1 0 0 1 0\n",
      " 0 0 1 1 1 1 1 1 1 1 1 1 1 1 0 0 1 1 1 1 1 1 1 1 0 0 1 0 0 1 0 1 1 1 0 0 0\n",
      " 0 1 1 0 1 1 1 1 1 1 1 1 1 1 1 1 1 1 1 1 1 1 1 1 1 1 1 1 1 1 1 1 1 1 1 1 1\n",
      " 1 1 1 1 1 1 1 1 1 1 1 1 1 1 1 1 1 1 1 1 1 1 1 1 1 1 1 1 1 1 1 1 1 1 1 1 1\n",
      " 1 1 1 1 1 1 1 1 1 1 1 1 1 1 1 1 1 1 1 1 1 1 1 1 1 1 1 1 1 1 1 1 1 1 1 1 1\n",
      " 1 1 1 1 1 1 1 1 1 1 1 1 1 1 1]\n"
     ]
    }
   ],
   "source": [
    "yhat = np.argmax(yhat, axis=-1)\n",
    "print(yhat)"
   ]
  },
  {
   "cell_type": "code",
   "execution_count": 6,
   "metadata": {},
   "outputs": [
    {
     "name": "stdout",
     "output_type": "stream",
     "text": [
      "(200,)\n",
      "(200,)\n"
     ]
    }
   ],
   "source": [
    "print(yhat.shape)\n",
    "print(labels.shape)"
   ]
  },
  {
   "cell_type": "code",
   "execution_count": 7,
   "metadata": {},
   "outputs": [
    {
     "name": "stdout",
     "output_type": "stream",
     "text": [
      "0.745\n"
     ]
    }
   ],
   "source": [
    "from sklearn.metrics import accuracy_score\n",
    "accuracy = accuracy_score(labels, yhat)\n",
    "print(accuracy)"
   ]
  }
 ],
 "metadata": {
  "kernelspec": {
   "display_name": "Python 3",
   "language": "python",
   "name": "python3"
  },
  "language_info": {
   "codemirror_mode": {
    "name": "ipython",
    "version": 3
   },
   "file_extension": ".py",
   "mimetype": "text/x-python",
   "name": "python",
   "nbconvert_exporter": "python",
   "pygments_lexer": "ipython3",
   "version": "3.10.6"
  },
  "orig_nbformat": 4
 },
 "nbformat": 4,
 "nbformat_minor": 2
}
