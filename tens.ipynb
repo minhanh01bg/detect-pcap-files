{
 "cells": [
  {
   "cell_type": "code",
   "execution_count": 1,
   "metadata": {},
   "outputs": [
    {
     "name": "stdout",
     "output_type": "stream",
     "text": [
      "(200,)\n",
      "200\n",
      "1600476\n"
     ]
    }
   ],
   "source": [
    "import tensorflow as tf\n",
    "import os\n",
    "import numpy as np\n",
    "\n",
    "# Convert pcap file to bytes\n",
    "def pcap_to_bytes(pcap_file):\n",
    "    with open(pcap_file, 'rb') as f:\n",
    "        return f.read()\n",
    "\n",
    "# Get list of pcap files in directory\n",
    "pcap_dir_password_attack = './password_attack/'\n",
    "pcap_files_password_attack = [os.path.join(pcap_dir_password_attack, f) for f in os.listdir(pcap_dir_password_attack) if f.endswith('.pcap')]\n",
    "pcap_files_password_attack = pcap_files_password_attack[:100]\n",
    "label_pa = np.full(len(pcap_files_password_attack), 0)\n",
    "\n",
    "pcap_dir_port_scan = './port_scan/'\n",
    "pcap_files_port_scan = [os.path.join(pcap_dir_port_scan, f) for f in os.listdir(pcap_dir_port_scan) if f.endswith('.pcap')]\n",
    "pcap_files_port_scan = pcap_files_port_scan[:100]\n",
    "pcap_files = pcap_files_password_attack + pcap_files_port_scan\n",
    "label_ps = np.full(len(pcap_files_port_scan), 1)\n",
    "# Convert pcap files to bytes\n",
    "pcap_bytes = [pcap_to_bytes(f) for f in pcap_files]\n",
    "# pcap_bytes = [np.fromfile(f, dtype=np.uint8) for f in pcap_files]\n",
    "\n",
    "# Define labels\n",
    "labels = np.concatenate((label_pa, label_ps), axis=0)\n",
    "# labels = np.concatenate((label_pa, label_ps), axis=0).astype(np.int64)\n",
    "\n",
    "print(labels.shape)\n",
    "print(len(pcap_bytes))\n",
    "print(len(pcap_bytes[0]))"
   ]
  },
  {
   "cell_type": "code",
   "execution_count": 2,
   "metadata": {},
   "outputs": [
    {
     "name": "stdout",
     "output_type": "stream",
     "text": [
      "1643410\n"
     ]
    }
   ],
   "source": [
    "# Convert pcap bytes to numpy array\n",
    "max_length = max(len(b) for b in pcap_bytes)\n",
    "pcap_bytes_array = np.zeros((len(pcap_bytes), max_length))\n",
    "print(max_length)\n",
    "for i, b in enumerate(pcap_bytes):\n",
    "    padded_b = b.ljust(max_length, b'\\x00')\n",
    "    pcap_bytes_array[i, :] = np.frombuffer(padded_b, dtype=np.uint8)\n"
   ]
  },
  {
   "cell_type": "code",
   "execution_count": 3,
   "metadata": {},
   "outputs": [
    {
     "name": "stdout",
     "output_type": "stream",
     "text": [
      "mean = 68.6014175415039\n",
      "std = 79.07476806640625\n"
     ]
    }
   ],
   "source": [
    "pcap_bytes_array = pcap_bytes_array.astype('float32')\n",
    "from sklearn.model_selection import train_test_split\n",
    "X_train, X_test, y_train, y_test = train_test_split(pcap_bytes_array, labels, test_size=0.2, random_state=42)\n",
    "\n",
    "mean = X_train.mean()\n",
    "std = X_train.std()\n",
    "X_train = (X_train - mean) / std\n",
    "X_test = (X_test - mean) / std\n",
    "print(f\"mean = {mean}\")\n",
    "print(f\"std = {std}\")\n",
    "# max_length_padded = max_length + (max_length % 8)\n",
    "\n",
    "# # Convert pcap bytes to numpy array\n",
    "# pcap_bytes_array = np.zeros((len(pcap_bytes), max_length_padded))\n",
    "# for i,b in enumerate(pcap_bytes):\n",
    "#     padded_b = b.ljust(max_length_padded, b'\\x00')\n",
    "#     pcap_bytes_array[i, :] = np.frombuffer(padded_b, dtype=np.uint8)"
   ]
  },
  {
   "cell_type": "code",
   "execution_count": 4,
   "metadata": {},
   "outputs": [],
   "source": [
    "# Define TensorFlow model\n",
    "model = tf.keras.models.Sequential([\n",
    "    tf.keras.layers.Dense(64, activation='relu', input_shape=(max_length,)),\n",
    "    tf.keras.layers.Dense(32, activation='relu'),\n",
    "    tf.keras.layers.Dense(2, activation='softmax')\n",
    "])\n",
    "\n",
    "# Compile the model\n",
    "model.compile(loss='sparse_categorical_crossentropy', optimizer='adam', metrics=['accuracy'])\n",
    "\n",
    "def reshape_(X):\n",
    "    return X.reshape(X.shape[0], X.shape[1], 1)"
   ]
  },
  {
   "cell_type": "code",
   "execution_count": 5,
   "metadata": {},
   "outputs": [
    {
     "name": "stdout",
     "output_type": "stream",
     "text": [
      "Epoch 1/10\n",
      "5/5 [==============================] - 2s 195ms/step - loss: 0.1045 - accuracy: 0.9563 - val_loss: 0.0000e+00 - val_accuracy: 1.0000\n",
      "Epoch 2/10\n",
      "5/5 [==============================] - 1s 147ms/step - loss: 0.0000e+00 - accuracy: 1.0000 - val_loss: 0.0000e+00 - val_accuracy: 1.0000\n",
      "Epoch 3/10\n",
      "5/5 [==============================] - 1s 152ms/step - loss: 0.0000e+00 - accuracy: 1.0000 - val_loss: 0.0000e+00 - val_accuracy: 1.0000\n",
      "Epoch 4/10\n",
      "5/5 [==============================] - 1s 141ms/step - loss: 0.0000e+00 - accuracy: 1.0000 - val_loss: 0.0000e+00 - val_accuracy: 1.0000\n",
      "Epoch 5/10\n",
      "5/5 [==============================] - 1s 123ms/step - loss: 0.0000e+00 - accuracy: 1.0000 - val_loss: 0.0000e+00 - val_accuracy: 1.0000\n",
      "Epoch 6/10\n",
      "5/5 [==============================] - 1s 122ms/step - loss: 0.0000e+00 - accuracy: 1.0000 - val_loss: 0.0000e+00 - val_accuracy: 1.0000\n",
      "Epoch 7/10\n",
      "5/5 [==============================] - 1s 134ms/step - loss: 0.0000e+00 - accuracy: 1.0000 - val_loss: 0.0000e+00 - val_accuracy: 1.0000\n",
      "Epoch 8/10\n",
      "5/5 [==============================] - 1s 123ms/step - loss: 0.0000e+00 - accuracy: 1.0000 - val_loss: 0.0000e+00 - val_accuracy: 1.0000\n",
      "Epoch 9/10\n",
      "5/5 [==============================] - 1s 147ms/step - loss: 0.0000e+00 - accuracy: 1.0000 - val_loss: 0.0000e+00 - val_accuracy: 1.0000\n",
      "Epoch 10/10\n",
      "5/5 [==============================] - 1s 111ms/step - loss: 0.0000e+00 - accuracy: 1.0000 - val_loss: 0.0000e+00 - val_accuracy: 1.0000\n"
     ]
    },
    {
     "data": {
      "text/plain": [
       "<keras.callbacks.History at 0x22400bc74f0>"
      ]
     },
     "execution_count": 5,
     "metadata": {},
     "output_type": "execute_result"
    }
   ],
   "source": [
    "X_train = reshape_(X_train)\n",
    "X_test = reshape_(X_test)\n",
    "# Train the model\n",
    "model.fit(X_train, y_train,validation_data=(X_test,y_test), epochs=10, batch_size=32)"
   ]
  },
  {
   "cell_type": "code",
   "execution_count": 6,
   "metadata": {},
   "outputs": [],
   "source": [
    "model.save('model.h5')"
   ]
  }
 ],
 "metadata": {
  "kernelspec": {
   "display_name": "Python 3",
   "language": "python",
   "name": "python3"
  },
  "language_info": {
   "codemirror_mode": {
    "name": "ipython",
    "version": 3
   },
   "file_extension": ".py",
   "mimetype": "text/x-python",
   "name": "python",
   "nbconvert_exporter": "python",
   "pygments_lexer": "ipython3",
   "version": "3.10.6"
  },
  "orig_nbformat": 4
 },
 "nbformat": 4,
 "nbformat_minor": 2
}
